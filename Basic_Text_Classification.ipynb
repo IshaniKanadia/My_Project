{
  "cells": [
    {
      "cell_type": "markdown",
      "metadata": {
        "id": "TvwpFqsuwfqz"
      },
      "source": [
        "### Importing Libraries"
      ]
    },
    {
      "cell_type": "code",
      "execution_count": null,
      "metadata": {
        "id": "j2SkRLGhwfrF"
      },
      "outputs": [],
      "source": [
        "import os\n",
        "import re\n",
        "import shutil\n",
        "import string\n",
        "import tensorflow as tf\n",
        "from tensorflow.keras import layers\n",
        "from tensorflow.keras import losses"
      ]
    },
    {
      "cell_type": "code",
      "execution_count": null,
      "metadata": {
        "id": "tPv98xjNwfrO"
      },
      "outputs": [],
      "source": [
        "import numpy as np"
      ]
    },
    {
      "cell_type": "markdown",
      "metadata": {
        "id": "_4WilDTywfrR"
      },
      "source": [
        "### Download and save data"
      ]
    },
    {
      "cell_type": "code",
      "execution_count": null,
      "metadata": {
        "id": "CSCMTQyQwfrZ"
      },
      "outputs": [],
      "source": [
        "# url = \"https://ai.stanford.edu/~amaas/data/sentiment/aclImdb_v1.tar.gz\"\n",
        "\n",
        "# dataset = tf.keras.utils.get_file(\"aclImdb_v1\", url,untar=True, cache_dir='.',cache_subdir='')\n",
        "\n",
        "#dataset_dir = os.path.join(os.path.dirname(\"aclImdb_v1\"), 'aclImdb')"
      ]
    },
    {
      "cell_type": "code",
      "execution_count": null,
      "metadata": {
        "id": "xOJVupSKwfrd"
      },
      "outputs": [],
      "source": [
        "dataset_dir = os.path.join(os.path.dirname(\"aclImdb_v1\"), 'aclImdb')"
      ]
    },
    {
      "cell_type": "code",
      "execution_count": null,
      "metadata": {
        "id": "cw3R0oSkwfri",
        "outputId": "6180e0a9-a2d3-4ec1-a4b7-6ef8b8ac00ac"
      },
      "outputs": [
        {
          "data": {
            "text/plain": [
              "'aclImdb'"
            ]
          },
          "execution_count": 45,
          "metadata": {},
          "output_type": "execute_result"
        }
      ],
      "source": [
        "dataset_dir"
      ]
    },
    {
      "cell_type": "code",
      "execution_count": null,
      "metadata": {
        "id": "vWG0ROxpwfrn",
        "outputId": "d2912d54-e68d-4b6f-ddf3-512bccc515af"
      },
      "outputs": [
        {
          "data": {
            "text/plain": [
              "'C:\\\\Users\\\\paris\\\\Desktop\\\\Studies\\\\skillSlash\\\\Deep Learning'"
            ]
          },
          "execution_count": 5,
          "metadata": {},
          "output_type": "execute_result"
        }
      ],
      "source": [
        "os.getcwd()"
      ]
    },
    {
      "cell_type": "code",
      "execution_count": null,
      "metadata": {
        "id": "b2a1wSrCwfrp",
        "outputId": "77b3cfe6-2687-4955-80bf-8fb205885aa3"
      },
      "outputs": [
        {
          "data": {
            "text/plain": [
              "['imdb.vocab', 'imdbEr.txt', 'README', 'test', 'train']"
            ]
          },
          "execution_count": 6,
          "metadata": {},
          "output_type": "execute_result"
        }
      ],
      "source": [
        "#what have we downloaded\n",
        "os.listdir(dataset_dir)"
      ]
    },
    {
      "cell_type": "code",
      "execution_count": null,
      "metadata": {
        "id": "osvgoawTwfrq"
      },
      "outputs": [],
      "source": [
        "#current working directory\n",
        "#dataset_dir"
      ]
    },
    {
      "cell_type": "markdown",
      "metadata": {
        "id": "4D4JVXRcwfrs"
      },
      "source": [
        "#### Files in the train directory"
      ]
    },
    {
      "cell_type": "code",
      "execution_count": null,
      "metadata": {
        "id": "Zw5hSXaUwfrt",
        "outputId": "fd392635-e593-4725-a82e-2fec27662358"
      },
      "outputs": [
        {
          "data": {
            "text/plain": [
              "['labeledBow.feat',\n",
              " 'neg',\n",
              " 'pos',\n",
              " 'unsupBow.feat',\n",
              " 'urls_neg.txt',\n",
              " 'urls_pos.txt',\n",
              " 'urls_unsup.txt']"
            ]
          },
          "execution_count": 7,
          "metadata": {},
          "output_type": "execute_result"
        }
      ],
      "source": [
        "train_dir = os.path.join(dataset_dir, 'train')\n",
        "os.listdir(train_dir)"
      ]
    },
    {
      "cell_type": "markdown",
      "metadata": {
        "id": "I7JIXPPLwfru"
      },
      "source": [
        "#### Open a sample file"
      ]
    },
    {
      "cell_type": "code",
      "execution_count": null,
      "metadata": {
        "id": "vmTGZCQJwfsW",
        "outputId": "d5f9fff3-c499-4ad0-9248-45aefee2e982"
      },
      "outputs": [
        {
          "name": "stdout",
          "output_type": "stream",
          "text": [
            "Bromwell High is a cartoon comedy. It ran at the same time as some other programs about school life, such as \"Teachers\". My 35 years in the teaching profession lead me to believe that Bromwell High's satire is much closer to reality than is \"Teachers\". The scramble to survive financially, the insightful students who can see right through their pathetic teachers' pomp, the pettiness of the whole situation, all remind me of the schools I knew and their students. When I saw the episode in which a student repeatedly tried to burn down the school, I immediately recalled ......... at .......... High. A classic line: INSPECTOR: I'm here to sack one of your teachers. STUDENT: Welcome to Bromwell High. I expect that many adults of my age think that Bromwell High is far fetched. What a pity that it isn't!\n"
          ]
        }
      ],
      "source": [
        "os.path.join(train_dir, 'pos/0_9.txt')\n",
        "\n",
        "sample_file =os.path.join(train_dir, 'pos/0_9.txt')\n",
        "with open(sample_file) as f:\n",
        "    print(f.read())"
      ]
    },
    {
      "cell_type": "code",
      "execution_count": null,
      "metadata": {
        "scrolled": true,
        "id": "D1d3Bn4gwfsY",
        "outputId": "380a141e-8b9a-4d69-fbc4-823e116f731e"
      },
      "outputs": [
        {
          "name": "stdout",
          "output_type": "stream",
          "text": [
            "Bromwell High is a cartoon comedy. It ran at the same time as some other programs about school life, such as \"Teachers\". My 35 years in the teaching profession lead me to believe that Bromwell High's satire is much closer to reality than is \"Teachers\". The scramble to survive financially, the insightful students who can see right through their pathetic teachers' pomp, the pettiness of the whole situation, all remind me of the schools I knew and their students. When I saw the episode in which a student repeatedly tried to burn down the school, I immediately recalled ......... at .......... High. A classic line: INSPECTOR: I'm here to sack one of your teachers. STUDENT: Welcome to Bromwell High. I expect that many adults of my age think that Bromwell High is far fetched. What a pity that it isn't!\n"
          ]
        }
      ],
      "source": [
        "sample_file =os.path.join(train_dir, 'pos/0_9.txt')\n",
        "with open(sample_file) as f:\n",
        "    print(f.read())"
      ]
    },
    {
      "cell_type": "code",
      "execution_count": null,
      "metadata": {
        "id": "D__-zT64wfsa"
      },
      "outputs": [],
      "source": [
        "batch_size = 32 #32 samples per iteration\n",
        "seed = 42"
      ]
    },
    {
      "cell_type": "code",
      "execution_count": null,
      "metadata": {
        "id": "A-wmiAEKwfsd",
        "outputId": "ff2b7f68-411c-4b72-a5f8-1b504dcab090"
      },
      "outputs": [
        {
          "name": "stdout",
          "output_type": "stream",
          "text": [
            "Found 25000 files belonging to 2 classes.\n",
            "Using 20000 files for training.\n"
          ]
        }
      ],
      "source": [
        "#dataset object\n",
        "raw_train_ds = tf.keras.utils.text_dataset_from_directory('aclImdb/train',\n",
        "    batch_size=batch_size,\n",
        "    validation_split=0.2,\n",
        "    subset='training',\n",
        "    seed=seed)"
      ]
    },
    {
      "cell_type": "markdown",
      "metadata": {
        "id": "BL2JqAhnwfsf"
      },
      "source": [
        "There are 25,000 examples in the training folder, of which you will use 80% (or 20,000) for training. You can also iterate over the dataset and print out a few examples as follows."
      ]
    },
    {
      "cell_type": "code",
      "execution_count": null,
      "metadata": {
        "id": "y6MSPM1Fwfsg",
        "outputId": "57e5d1ca-b57e-492b-9812-af1fefcd878a"
      },
      "outputs": [
        {
          "name": "stdout",
          "output_type": "stream",
          "text": [
            "Review b'\"Pandemonium\" is a horror movie spoof that comes off more stupid than funny. Believe me when I tell you, I love comedies. Especially comedy spoofs. \"Airplane\", \"The Naked Gun\" trilogy, \"Blazing Saddles\", \"High Anxiety\", and \"Spaceballs\" are some of my favorite comedies that spoof a particular genre. \"Pandemonium\" is not up there with those films. Most of the scenes in this movie had me sitting there in stunned silence because the movie wasn\\'t all that funny. There are a few laughs in the film, but when you watch a comedy, you expect to laugh a lot more than a few times and that\\'s all this film has going for it. Geez, \"Scream\" had more laughs than this film and that was more of a horror film. How bizarre is that?<br /><br />*1/2 (out of four)'\n",
            "Label 0\n",
            "Review b\"David Mamet is a very interesting and a very un-equal director. His first movie 'House of Games' was the one I liked best, and it set a series of films with characters whose perspective of life changes as they get into complicated situations, and so does the perspective of the viewer.<br /><br />So is 'Homicide' which from the title tries to set the mind of the viewer to the usual crime drama. The principal characters are two cops, one Jewish and one Irish who deal with a racially charged area. The murder of an old Jewish shop owner who proves to be an ancient veteran of the Israeli Independence war triggers the Jewish identity in the mind and heart of the Jewish detective.<br /><br />This is were the flaws of the film are the more obvious. The process of awakening is theatrical and hard to believe, the group of Jewish militants is operatic, and the way the detective eventually walks to the final violent confrontation is pathetic. The end of the film itself is Mamet-like smart, but disappoints from a human emotional perspective.<br /><br />Joe Mantegna and William Macy give strong performances, but the flaws of the story are too evident to be easily compensated.\"\n",
            "Label 0\n",
            "Review b'Great documentary about the lives of NY firefighters during the worst terrorist attack of all time.. That reason alone is why this should be a must see collectors item.. What shocked me was not only the attacks, but the\"High Fat Diet\" and physical appearance of some of these firefighters. I think a lot of Doctors would agree with me that,in the physical shape they were in, some of these firefighters would NOT of made it to the 79th floor carrying over 60 lbs of gear. Having said that i now have a greater respect for firefighters and i realize becoming a firefighter is a life altering job. The French have a history of making great documentary\\'s and that is what this is, a Great Documentary.....'\n",
            "Label 1\n"
          ]
        }
      ],
      "source": [
        "#the take(1) method takes 1 batch from the dataset\n",
        "for text_batch, label_batch in raw_train_ds.take(1):\n",
        "    for i in range(3):\n",
        "        print(\"Review\", text_batch.numpy()[i])\n",
        "        #When you use .numpy() on a TensorFlow tensor, you are converting the tensor to a NumPy array\n",
        "        print(\"Label\", label_batch.numpy()[i])"
      ]
    },
    {
      "cell_type": "markdown",
      "metadata": {
        "id": "8Fte-xYCwfsl"
      },
      "source": [
        "#### Checking what is a positive review and what is negaive"
      ]
    },
    {
      "cell_type": "code",
      "execution_count": null,
      "metadata": {
        "id": "fHH7MoXRwfsn",
        "outputId": "33cb0552-19a7-49a6-d67e-cd08db29c684"
      },
      "outputs": [
        {
          "name": "stdout",
          "output_type": "stream",
          "text": [
            "Label 0 corresponds to neg\n",
            "Label 1 corresponds to pos\n"
          ]
        }
      ],
      "source": [
        "print(\"Label 0 corresponds to\", raw_train_ds.class_names[0])\n",
        "print(\"Label 1 corresponds to\", raw_train_ds.class_names[1])"
      ]
    },
    {
      "cell_type": "markdown",
      "metadata": {
        "id": "-CxBhZqrwfsp"
      },
      "source": [
        "#### Creating a validation dataset"
      ]
    },
    {
      "cell_type": "code",
      "execution_count": null,
      "metadata": {
        "id": "JFjaQDnMwfsq",
        "outputId": "6ecfb8f4-bdc0-45a6-ea18-8591dea9f668"
      },
      "outputs": [
        {
          "name": "stdout",
          "output_type": "stream",
          "text": [
            "Found 25000 files belonging to 2 classes.\n",
            "Using 5000 files for validation.\n"
          ]
        }
      ],
      "source": [
        "raw_val_ds = tf.keras.utils.text_dataset_from_directory(\n",
        "    'aclImdb/train',\n",
        "    batch_size=batch_size,\n",
        "    validation_split=0.2,\n",
        "    subset='validation',\n",
        "    seed=seed)"
      ]
    },
    {
      "cell_type": "markdown",
      "metadata": {
        "id": "Fv05HTpmwfss"
      },
      "source": [
        "#### Creating our test dataset"
      ]
    },
    {
      "cell_type": "code",
      "execution_count": null,
      "metadata": {
        "id": "3gHfR2Eywfss",
        "outputId": "27013c20-f1c7-4eaf-95be-51b953da9e47"
      },
      "outputs": [
        {
          "name": "stdout",
          "output_type": "stream",
          "text": [
            "Found 25000 files belonging to 2 classes.\n"
          ]
        }
      ],
      "source": [
        "raw_test_ds = tf.keras.utils.text_dataset_from_directory(\n",
        "    'aclImdb/test',\n",
        "    batch_size=batch_size)"
      ]
    },
    {
      "cell_type": "markdown",
      "metadata": {
        "id": "Oyd2xlo8wfst"
      },
      "source": [
        "#### Prreparing the data for training"
      ]
    },
    {
      "cell_type": "code",
      "execution_count": null,
      "metadata": {
        "id": "HLNOYcTWwfsu"
      },
      "outputs": [],
      "source": [
        "#reading data\n",
        "sample_file = os.path.join(train_dir, 'pos/3_10.txt')\n",
        "t=open(sample_file)\n",
        "a=t.read()"
      ]
    },
    {
      "cell_type": "code",
      "execution_count": null,
      "metadata": {
        "id": "0xMODRyewftD",
        "outputId": "82673d3d-16cf-44a1-fc16-c18744bab37d"
      },
      "outputs": [
        {
          "data": {
            "text/plain": [
              "'\"All the world\\'s a stage and its people actors in it\"--or something like that. Who the hell said that theatre stopped at the orchestra pit--or even at the theatre door? Why is not the audience participants in the theatrical experience, including the story itself?<br /><br />This film was a grand experiment that said: \"Hey! the story is you and it needs more than your attention, it needs your active participation\". \"Sometimes we bring the story to you, sometimes you have to go to the story.\"<br /><br />Alas no one listened, but that does not mean it should not have been said.'"
            ]
          },
          "execution_count": 17,
          "metadata": {},
          "output_type": "execute_result"
        }
      ],
      "source": [
        "a"
      ]
    },
    {
      "cell_type": "code",
      "execution_count": null,
      "metadata": {
        "id": "0FyZqWuawftE"
      },
      "outputs": [],
      "source": [
        "#making all data lowercase\n",
        "lowercase = tf.strings.lower(a)"
      ]
    },
    {
      "cell_type": "code",
      "execution_count": null,
      "metadata": {
        "scrolled": true,
        "id": "O3sG_mQtwftF",
        "outputId": "880426fa-3a6f-4cc6-9e14-2b096f0cb471"
      },
      "outputs": [
        {
          "data": {
            "text/plain": [
              "<tf.Tensor: shape=(), dtype=string, numpy=b'\"all the world\\'s a stage and its people actors in it\"--or something like that. who the hell said that theatre stopped at the orchestra pit--or even at the theatre door? why is not the audience participants in the theatrical experience, including the story itself?<br /><br />this film was a grand experiment that said: \"hey! the story is you and it needs more than your attention, it needs your active participation\". \"sometimes we bring the story to you, sometimes you have to go to the story.\"<br /><br />alas no one listened, but that does not mean it should not have been said.'>"
            ]
          },
          "execution_count": 23,
          "metadata": {},
          "output_type": "execute_result"
        }
      ],
      "source": [
        "lowercase"
      ]
    },
    {
      "cell_type": "code",
      "execution_count": null,
      "metadata": {
        "id": "G4m-ta94wftF"
      },
      "outputs": [],
      "source": [
        "stripped_html = tf.strings.regex_replace(lowercase, '<br />', ' ')"
      ]
    },
    {
      "cell_type": "code",
      "execution_count": null,
      "metadata": {
        "id": "UZ41b49TwftG",
        "outputId": "00b37cf4-7297-4b23-da63-72e04d99494d"
      },
      "outputs": [
        {
          "data": {
            "text/plain": [
              "<tf.Tensor: shape=(), dtype=string, numpy=b'\"all the world\\'s a stage and its people actors in it\"--or something like that. who the hell said that theatre stopped at the orchestra pit--or even at the theatre door? why is not the audience participants in the theatrical experience, including the story itself?  this film was a grand experiment that said: \"hey! the story is you and it needs more than your attention, it needs your active participation\". \"sometimes we bring the story to you, sometimes you have to go to the story.\"  alas no one listened, but that does not mean it should not have been said.'>"
            ]
          },
          "execution_count": 25,
          "metadata": {},
          "output_type": "execute_result"
        }
      ],
      "source": [
        "stripped_html"
      ]
    },
    {
      "cell_type": "code",
      "execution_count": null,
      "metadata": {
        "id": "MlOmdG3EwftI"
      },
      "outputs": [],
      "source": [
        "def custom_standardization(input_data):\n",
        "    lowercase = tf.strings.lower(input_data)\n",
        "    stripped_html = tf.strings.regex_replace(lowercase, '<br />', ' ')\n",
        "    return tf.strings.regex_replace(stripped_html,'[%s]' % re.escape(string.punctuation),'')"
      ]
    },
    {
      "cell_type": "code",
      "execution_count": null,
      "metadata": {
        "id": "WloNb76HwftI"
      },
      "outputs": [],
      "source": [
        "max_features = 10000\n",
        "sequence_length = 250\n",
        "\n",
        "vectorize_layer = layers.TextVectorization(\n",
        "    standardize=custom_standardization,\n",
        "    max_tokens=max_features,\n",
        "    output_mode='int',\n",
        "    output_sequence_length=sequence_length)"
      ]
    },
    {
      "cell_type": "code",
      "execution_count": null,
      "metadata": {
        "id": "sopLu4GuwftJ"
      },
      "outputs": [],
      "source": [
        "# Make a text-only dataset (without labels), then call adapt\n",
        "train_text = raw_train_ds.map(lambda x, y: x)\n",
        "vectorize_layer.adapt(train_text)"
      ]
    },
    {
      "cell_type": "code",
      "execution_count": null,
      "metadata": {
        "id": "_BD01_6kwftJ"
      },
      "outputs": [],
      "source": [
        "# a function to see how the above vectorization is happening\n",
        "def vectorize_text(text, label):\n",
        "    text = tf.expand_dims(text, -1)\n",
        "    return vectorize_layer(text), label"
      ]
    },
    {
      "cell_type": "code",
      "execution_count": null,
      "metadata": {
        "id": "JTf0O5PqwftL",
        "outputId": "6f6718ea-6545-4008-e427-1598496c9085"
      },
      "outputs": [
        {
          "name": "stdout",
          "output_type": "stream",
          "text": [
            "Review tf.Tensor(b'Belmondo is a tough cop. He goes after a big-time drug dealer (played by Henry Silva, normally a great villain - see \"Sharky\\'s Machine\"; but here he is clearly dubbed, and because of that he lacks his usual charisma). He goes to the scuzziest places of Paris and Marseilles, asks for some names, beats up some people, gets the names, goes to more scuzzy places, asks for more names, beats up more people, etc. The whole movie is punch after punch after punch. It seems that the people who made it had no other ambition than to create the French equivalent of \"Dirty Harry\". Belmondo, who was 50 here, does perform some good stunts at the beginning; apart from those, \"Le Marginal\" is a violent, episodic, trite, shallow and forgettable cop movie. (*1/2)', shape=(), dtype=string)\n",
            "Label neg\n",
            "Vectorized review (<tf.Tensor: shape=(1, 250), dtype=int64, numpy=\n",
            "array([[   1,    7,    4, 1234, 1021,   27,  261,  101,    4,    1, 1519,\n",
            "        6984,  248,   32, 1487,    1, 1662,    4,   85, 1013,   67,    1,\n",
            "        1703,   18,  128,   27,    7,  689, 2407,    3,   84,    5,   12,\n",
            "          27, 1452,   24,  615, 3312,   27,  261,    6,    2,    1, 1325,\n",
            "           5, 1369,    3,    1, 1585,   15,   46, 1362, 3608,   56,   46,\n",
            "          79,  201,    2, 1362,  261,    6,   50,    1, 1325, 1585,   15,\n",
            "          50, 1362, 3608,   56,   50,   79,  532,    2,  210,   17,    7,\n",
            "        2869,  101, 2869,  101, 2869,    9,  180,   12,    2,   79,   36,\n",
            "          90,    9,   66,   57,   78, 5413,   70,    6,  919,    2,  804,\n",
            "        4889,    5, 1676, 1347,    1,   36,   13, 1730,  128,  120, 3077,\n",
            "          46,   49, 3273,   31,    2,  435,  949,   35,  143, 3515,    1,\n",
            "           7,    4, 1098, 9831, 3091, 2054,    3, 2509, 1021,   17, 1105,\n",
            "           0,    0,    0,    0,    0,    0,    0,    0,    0,    0,    0,\n",
            "           0,    0,    0,    0,    0,    0,    0,    0,    0,    0,    0,\n",
            "           0,    0,    0,    0,    0,    0,    0,    0,    0,    0,    0,\n",
            "           0,    0,    0,    0,    0,    0,    0,    0,    0,    0,    0,\n",
            "           0,    0,    0,    0,    0,    0,    0,    0,    0,    0,    0,\n",
            "           0,    0,    0,    0,    0,    0,    0,    0,    0,    0,    0,\n",
            "           0,    0,    0,    0,    0,    0,    0,    0,    0,    0,    0,\n",
            "           0,    0,    0,    0,    0,    0,    0,    0,    0,    0,    0,\n",
            "           0,    0,    0,    0,    0,    0,    0,    0,    0,    0,    0,\n",
            "           0,    0,    0,    0,    0,    0,    0,    0,    0,    0,    0,\n",
            "           0,    0,    0,    0,    0,    0,    0,    0]], dtype=int64)>, <tf.Tensor: shape=(), dtype=int32, numpy=0>)\n"
          ]
        }
      ],
      "source": [
        "# retrieve a batch (of 32 reviews and labels) from the dataset\n",
        "text_batch, label_batch = next(iter(raw_train_ds))\n",
        "first_review, first_label = text_batch[0], label_batch[0]\n",
        "print(\"Review\", first_review)\n",
        "print(\"Label\", raw_train_ds.class_names[first_label])\n",
        "print(\"Vectorized review\", vectorize_text(first_review, first_label))"
      ]
    },
    {
      "cell_type": "code",
      "execution_count": null,
      "metadata": {
        "id": "R_saj82_wftM",
        "outputId": "34320866-18c8-45cc-8950-80295a800e6f"
      },
      "outputs": [
        {
          "name": "stdout",
          "output_type": "stream",
          "text": [
            " 1 --->  [UNK]\n",
            " 2 --->  the\n",
            " 3 --->  and\n",
            " 4 --->  a\n",
            " 5 --->  of\n",
            " 6 --->  to\n",
            "400 --->  case\n",
            "5000 --->  carrie\n",
            "8000 --->  whod\n",
            "Vocabulary size: 10000\n"
          ]
        }
      ],
      "source": [
        "print(\" 1 ---> \",vectorize_layer.get_vocabulary()[1])\n",
        "print(\" 2 ---> \",vectorize_layer.get_vocabulary()[2])\n",
        "print(\" 3 ---> \",vectorize_layer.get_vocabulary()[3])\n",
        "print(\" 4 ---> \",vectorize_layer.get_vocabulary()[4])\n",
        "print(\" 5 ---> \",vectorize_layer.get_vocabulary()[5])\n",
        "print(\" 6 ---> \",vectorize_layer.get_vocabulary()[6])\n",
        "print(\"400 ---> \",vectorize_layer.get_vocabulary()[400])\n",
        "print(\"5000 ---> \",vectorize_layer.get_vocabulary()[5000])\n",
        "print(\"8000 ---> \",vectorize_layer.get_vocabulary()[8000])\n",
        "print('Vocabulary size: {}'.format(len(vectorize_layer.get_vocabulary())))"
      ]
    },
    {
      "cell_type": "code",
      "execution_count": null,
      "metadata": {
        "id": "wb2vSIG5wftN"
      },
      "outputs": [],
      "source": [
        "#applying text vectorisation to all 3 datasets\n",
        "train_ds = raw_train_ds.map(vectorize_text)\n",
        "val_ds = raw_val_ds.map(vectorize_text)\n",
        "test_ds = raw_test_ds.map(vectorize_text)"
      ]
    },
    {
      "cell_type": "code",
      "execution_count": null,
      "metadata": {
        "id": "vZikD8g0wfuv"
      },
      "outputs": [],
      "source": [
        "# Optional code to reduce the RAM useage\n",
        "AUTOTUNE = tf.data.AUTOTUNE\n",
        "\n",
        "train_ds = train_ds.cache().prefetch(buffer_size=AUTOTUNE)\n",
        "val_ds = val_ds.cache().prefetch(buffer_size=AUTOTUNE)\n",
        "test_ds = test_ds.cache().prefetch(buffer_size=AUTOTUNE)"
      ]
    },
    {
      "cell_type": "code",
      "execution_count": null,
      "metadata": {
        "id": "4ijEldXFwfuw"
      },
      "outputs": [],
      "source": [
        "embedding_dim = 16"
      ]
    },
    {
      "cell_type": "code",
      "execution_count": null,
      "metadata": {
        "id": "NpopSD8LwfvF"
      },
      "outputs": [],
      "source": [
        "embedding_dim = 16\n",
        "model = tf.keras.Sequential([\n",
        "  layers.Embedding(max_features, embedding_dim),\n",
        "  layers.Dropout(0.2),\n",
        "  layers.GlobalAveragePooling1D(),\n",
        "  layers.Dropout(0.2),\n",
        "  layers.Dense(1)])\n",
        "# logits\n",
        "model.summary()"
      ]
    },
    {
      "cell_type": "code",
      "execution_count": null,
      "metadata": {
        "id": "1Dt9npegwfvG"
      },
      "outputs": [],
      "source": [
        "model.compile(loss=losses.BinaryCrossentropy(from_logits=True),\n",
        "              optimizer='adam',\n",
        "              metrics=tf.metrics.BinaryAccuracy(threshold=0.0))"
      ]
    },
    {
      "cell_type": "code",
      "execution_count": null,
      "metadata": {
        "id": "rvvwt2OkwfvH"
      },
      "outputs": [],
      "source": [
        "epochs = 10\n",
        "history = model.fit(\n",
        "    train_ds,\n",
        "    validation_data=val_ds,\n",
        "    epochs=epochs)"
      ]
    },
    {
      "cell_type": "code",
      "execution_count": null,
      "metadata": {
        "id": "Je4vvtSewfvH"
      },
      "outputs": [],
      "source": [
        "loss, accuracy = model.evaluate(test_ds)\n",
        "\n",
        "print(\"Loss: \", loss)\n",
        "print(\"Accuracy: \", accuracy)"
      ]
    },
    {
      "cell_type": "code",
      "execution_count": null,
      "metadata": {
        "id": "twN-3FWvwfvI"
      },
      "outputs": [],
      "source": [
        "export_model = tf.keras.Sequential([\n",
        "  vectorize_layer, model, layers.Activation('sigmoid')])\n",
        "\n",
        "export_model.compile(\n",
        "    loss=losses.BinaryCrossentropy(from_logits=False), optimizer=\"adam\", metrics=['accuracy']\n",
        ")\n",
        "\n",
        "# Test it with `raw_test_ds`, which yields raw strings\n",
        "loss, accuracy = export_model.evaluate(raw_test_ds)\n",
        "print(accuracy)"
      ]
    },
    {
      "cell_type": "code",
      "execution_count": null,
      "metadata": {
        "id": "lMXtDlbgwfvJ",
        "outputId": "6d9e34a3-e178-4362-d0b1-19e56c74b9ca"
      },
      "outputs": [
        {
          "name": "stdout",
          "output_type": "stream",
          "text": [
            "1/1 [==============================] - 0s 166ms/step\n"
          ]
        },
        {
          "data": {
            "text/plain": [
              "array([[0.65489835],\n",
              "       [0.4821357 ],\n",
              "       [0.39487392],\n",
              "       [0.61388874],\n",
              "       [0.5725017 ],\n",
              "       [0.45076826],\n",
              "       [0.33729854],\n",
              "       [0.57831883],\n",
              "       [0.6936634 ],\n",
              "       [0.60978764]], dtype=float32)"
            ]
          },
          "execution_count": 44,
          "metadata": {},
          "output_type": "execute_result"
        }
      ],
      "source": [
        "examples = [\"The movie was great!\",\"The movie was okay.\",\n",
        "  \"The movie was terrible...\",\"The movie was awesome\",\n",
        "    \"The movie was a one time watch\",\"the movies is horrible\",\n",
        "    \"the movie was a waste of time\",\n",
        "    \"I will watch the movie but if some one goves me 1 million dollars to watch it\",\n",
        "           \"the movie is amazing\",\"The movies is tooo good\"]\n",
        "\n",
        "export_model.predict(examples)"
      ]
    },
    {
      "cell_type": "code",
      "execution_count": null,
      "metadata": {
        "id": "OaCUPAc4wfvK"
      },
      "outputs": [],
      "source": []
    },
    {
      "cell_type": "code",
      "execution_count": null,
      "metadata": {
        "id": "MTz7DRyDwfvL"
      },
      "outputs": [],
      "source": []
    },
    {
      "cell_type": "code",
      "execution_count": null,
      "metadata": {
        "id": "IOqWIsgRwfvM"
      },
      "outputs": [],
      "source": []
    },
    {
      "cell_type": "code",
      "execution_count": null,
      "metadata": {
        "id": "y1ymfnzRwfvM"
      },
      "outputs": [],
      "source": []
    },
    {
      "cell_type": "code",
      "execution_count": null,
      "metadata": {
        "id": "TAbUE1WvwfvM"
      },
      "outputs": [],
      "source": []
    },
    {
      "cell_type": "code",
      "execution_count": null,
      "metadata": {
        "id": "XOMNJfE6wfvN",
        "outputId": "4ceb1118-df06-4c75-d0fd-e7adde97e695"
      },
      "outputs": [
        {
          "data": {
            "text/plain": [
              "dict_keys(['loss', 'binary_accuracy', 'val_loss', 'val_binary_accuracy'])"
            ]
          },
          "execution_count": 41,
          "metadata": {},
          "output_type": "execute_result"
        }
      ],
      "source": [
        "history_dict = history.history\n",
        "history_dict.keys()"
      ]
    },
    {
      "cell_type": "code",
      "execution_count": null,
      "metadata": {
        "id": "3y8-KdcmwfvO",
        "outputId": "a7301b9d-b58d-4956-dbd6-c6fc9983067e"
      },
      "outputs": [
        {
          "data": {
            "image/png": "[encoded data removed]",
            "text/plain": [
              "<Figure size 432x288 with 1 Axes>"
            ]
          },
          "metadata": {
            "needs_background": "light"
          },
          "output_type": "display_data"
        }
      ],
      "source": [
        "acc = history_dict['binary_accuracy']\n",
        "val_acc = history_dict['val_binary_accuracy']\n",
        "loss = history_dict['loss']\n",
        "val_loss = history_dict['val_loss']\n",
        "\n",
        "epochs = range(1, len(acc) + 1)\n",
        "\n",
        "# \"bo\" is for \"blue dot\"\n",
        "plt.plot(epochs, loss, 'bo', label='Training loss')\n",
        "# b is for \"solid blue line\"\n",
        "plt.plot(epochs, val_loss, 'b', label='Validation loss')\n",
        "plt.title('Training and validation loss')\n",
        "plt.xlabel('Epochs')\n",
        "plt.ylabel('Loss')\n",
        "plt.legend()\n",
        "\n",
        "plt.show()"
      ]
    },
    {
      "cell_type": "code",
      "execution_count": null,
      "metadata": {
        "id": "Iy4Qv9tpwfvQ",
        "outputId": "a0dccbad-c47a-4e6b-e54b-81151085e605"
      },
      "outputs": [
        {
          "data": {
            "image/png": "[encoded data removed]",
            "text/plain": [
              "<Figure size 432x288 with 1 Axes>"
            ]
          },
          "metadata": {
            "needs_background": "light"
          },
          "output_type": "display_data"
        }
      ],
      "source": [
        "plt.plot(epochs, acc, 'bo', label='Training acc')\n",
        "plt.plot(epochs, val_acc, 'b', label='Validation acc')\n",
        "plt.title('Training and validation accuracy')\n",
        "plt.xlabel('Epochs')\n",
        "plt.ylabel('Accuracy')\n",
        "plt.legend(loc='lower right')\n",
        "\n",
        "plt.show()"
      ]
    },
    {
      "cell_type": "code",
      "execution_count": null,
      "metadata": {
        "id": "GdG74fXcwfvR",
        "outputId": "64425a14-5e1f-4c4a-bbf0-f10f9b630a24"
      },
      "outputs": [
        {
          "name": "stdout",
          "output_type": "stream",
          "text": [
            "782/782 [==============================] - 9s 12ms/step - loss: 0.3355 - accuracy: 0.8676\n",
            "0.8676400184631348\n"
          ]
        }
      ],
      "source": [
        "export_model = tf.keras.Sequential([\n",
        "  vectorize_layer, model, layers.Activation('sigmoid')])\n",
        "\n",
        "export_model.compile(\n",
        "    loss=losses.BinaryCrossentropy(from_logits=False), optimizer=\"adam\", metrics=['accuracy']\n",
        ")\n",
        "\n",
        "# Test it with `raw_test_ds`, which yields raw strings\n",
        "loss, accuracy = export_model.evaluate(raw_test_ds)\n",
        "print(accuracy)"
      ]
    },
    {
      "cell_type": "code",
      "execution_count": null,
      "metadata": {
        "id": "hqZMlHZCwfvS",
        "outputId": "08cfa050-021e-4c31-875c-e814d994885c"
      },
      "outputs": [
        {
          "name": "stdout",
          "output_type": "stream",
          "text": [
            "1/1 [==============================] - 0s 53ms/step\n"
          ]
        },
        {
          "data": {
            "text/plain": [
              "array([[0.61996025],\n",
              "       [0.36855316],\n",
              "       [0.26712266],\n",
              "       [0.6025197 ],\n",
              "       [0.51287335],\n",
              "       [0.32449454],\n",
              "       [0.16736317],\n",
              "       [0.5140532 ],\n",
              "       [0.7153663 ],\n",
              "       [0.56934226]], dtype=float32)"
            ]
          },
          "execution_count": 43,
          "metadata": {},
          "output_type": "execute_result"
        }
      ],
      "source": []
    }
  ],
  "metadata": {
    "kernelspec": {
      "display_name": "Python 3",
      "language": "python",
      "name": "python3"
    },
    "language_info": {
      "codemirror_mode": {
        "name": "ipython",
        "version": 3
      },
      "file_extension": ".py",
      "mimetype": "text/x-python",
      "name": "python",
      "nbconvert_exporter": "python",
      "pygments_lexer": "ipython3",
      "version": "3.8.5"
    },
    "colab": {
      "provenance": []
    }
  },
  "nbformat": 4,
  "nbformat_minor": 0
}