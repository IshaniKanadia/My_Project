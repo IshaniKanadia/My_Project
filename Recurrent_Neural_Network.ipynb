{
  "cells": [
    {
      "cell_type": "code",
      "execution_count": null,
      "metadata": {
        "id": "mJigqNolZWrv"
      },
      "outputs": [],
      "source": [
        "import numpy as np\n",
        "# Create random sequence data\n",
        "data = np.random.rand(100, 1)"
      ]
    },
    {
      "cell_type": "code",
      "execution_count": null,
      "metadata": {
        "id": "vsVqJFEeZWry"
      },
      "outputs": [],
      "source": [
        "# Normalize the data - it helps with training\n",
        "data = data - np.mean(data)\n",
        "data = data / np.std(data)"
      ]
    },
    {
      "cell_type": "code",
      "execution_count": null,
      "metadata": {
        "id": "gkYaBKQQZWrz"
      },
      "outputs": [],
      "source": [
        "# Preparing input-output pairs\n",
        "X = data[:-1]  # all but last\n",
        "y = data[1:]   # all but first"
      ]
    },
    {
      "cell_type": "code",
      "execution_count": null,
      "metadata": {
        "id": "1IKgE1QWZWr0"
      },
      "outputs": [],
      "source": [
        "from keras.models import Sequential\n",
        "from keras.layers import SimpleRNN, Dense\n",
        "# Initialize the RNN model\n",
        "model = Sequential()\n",
        "# Adding a Simple RNN layer\n",
        "# input_shape=(None, 1) - sequence of any length with one feature\n",
        "model.add(SimpleRNN(10, input_shape=(None, 1), activation='tanh'))\n",
        "# Adding a Dense layer for output\n",
        "model.add(Dense(1, activation='linear'))  # Linear activation for a regression problem\n",
        "# Compile the model\n",
        "model.compile(optimizer='adam', loss='mean_squared_error')"
      ]
    },
    {
      "cell_type": "code",
      "execution_count": null,
      "metadata": {
        "scrolled": true,
        "id": "rBQEdYOrZWr1",
        "outputId": "5c6410f2-d841-4a2a-bf43-0de8abc4977d"
      },
      "outputs": [
        {
          "name": "stdout",
          "output_type": "stream",
          "text": [
            "Epoch 1/200\n",
            "10/10 [==============================] - 2s 3ms/step - loss: 1.0755\n",
            "Epoch 2/200\n",
            "10/10 [==============================] - 0s 5ms/step - loss: 1.0589\n",
            "Epoch 3/200\n",
            "10/10 [==============================] - 0s 4ms/step - loss: 1.0442\n",
            "Epoch 4/200\n",
            "10/10 [==============================] - 0s 5ms/step - loss: 1.0341\n",
            "Epoch 5/200\n",
            "10/10 [==============================] - 0s 4ms/step - loss: 1.0247\n",
            "Epoch 6/200\n",
            "10/10 [==============================] - 0s 5ms/step - loss: 1.0168\n",
            "Epoch 7/200\n",
            "10/10 [==============================] - 0s 4ms/step - loss: 1.0123\n",
            "Epoch 8/200\n",
            "10/10 [==============================] - 0s 5ms/step - loss: 1.0089\n",
            "Epoch 9/200\n",
            "10/10 [==============================] - 0s 5ms/step - loss: 1.0057\n",
            "Epoch 10/200\n",
            "10/10 [==============================] - 0s 5ms/step - loss: 1.0034\n",
            "Epoch 11/200\n",
            "10/10 [==============================] - 0s 5ms/step - loss: 1.0009\n",
            "Epoch 12/200\n",
            "10/10 [==============================] - 0s 5ms/step - loss: 0.9999\n",
            "Epoch 13/200\n",
            "10/10 [==============================] - 0s 5ms/step - loss: 0.9989\n",
            "Epoch 14/200\n",
            "10/10 [==============================] - 0s 5ms/step - loss: 0.9976\n",
            "Epoch 15/200\n",
            "10/10 [==============================] - 0s 4ms/step - loss: 0.9977\n",
            "Epoch 16/200\n",
            "10/10 [==============================] - 0s 4ms/step - loss: 0.9967\n",
            "Epoch 17/200\n",
            "10/10 [==============================] - 0s 4ms/step - loss: 0.9965\n",
            "Epoch 18/200\n",
            "10/10 [==============================] - 0s 4ms/step - loss: 0.9964\n",
            "Epoch 19/200\n",
            "10/10 [==============================] - 0s 4ms/step - loss: 0.9961\n",
            "Epoch 20/200\n",
            "10/10 [==============================] - 0s 4ms/step - loss: 0.9958\n",
            "Epoch 21/200\n",
            "10/10 [==============================] - 0s 4ms/step - loss: 0.9961\n",
            "Epoch 22/200\n",
            "10/10 [==============================] - 0s 5ms/step - loss: 0.9966\n",
            "Epoch 23/200\n",
            "10/10 [==============================] - 0s 5ms/step - loss: 0.9962\n",
            "Epoch 24/200\n",
            "10/10 [==============================] - 0s 6ms/step - loss: 0.9958\n",
            "Epoch 25/200\n",
            "10/10 [==============================] - 0s 4ms/step - loss: 0.9957\n",
            "Epoch 26/200\n",
            "10/10 [==============================] - 0s 4ms/step - loss: 0.9963\n",
            "Epoch 27/200\n",
            "10/10 [==============================] - 0s 4ms/step - loss: 0.9967\n",
            "Epoch 28/200\n",
            "10/10 [==============================] - 0s 4ms/step - loss: 0.9957\n",
            "Epoch 29/200\n",
            "10/10 [==============================] - 0s 4ms/step - loss: 0.9956\n",
            "Epoch 30/200\n",
            "10/10 [==============================] - 0s 4ms/step - loss: 0.9955\n",
            "Epoch 31/200\n",
            "10/10 [==============================] - 0s 4ms/step - loss: 0.9954\n",
            "Epoch 32/200\n",
            "10/10 [==============================] - 0s 3ms/step - loss: 0.9955\n",
            "Epoch 33/200\n",
            "10/10 [==============================] - 0s 4ms/step - loss: 0.9957\n",
            "Epoch 34/200\n",
            "10/10 [==============================] - 0s 4ms/step - loss: 0.9958\n",
            "Epoch 35/200\n",
            "10/10 [==============================] - 0s 3ms/step - loss: 0.9960\n",
            "Epoch 36/200\n",
            "10/10 [==============================] - 0s 4ms/step - loss: 0.9956\n",
            "Epoch 37/200\n",
            "10/10 [==============================] - 0s 3ms/step - loss: 0.9958\n",
            "Epoch 38/200\n",
            "10/10 [==============================] - 0s 4ms/step - loss: 0.9955\n",
            "Epoch 39/200\n",
            "10/10 [==============================] - 0s 4ms/step - loss: 0.9956\n",
            "Epoch 40/200\n",
            "10/10 [==============================] - 0s 4ms/step - loss: 0.9957\n",
            "Epoch 41/200\n",
            "10/10 [==============================] - 0s 4ms/step - loss: 0.9954\n",
            "Epoch 42/200\n",
            "10/10 [==============================] - 0s 4ms/step - loss: 0.9954\n",
            "Epoch 43/200\n",
            "10/10 [==============================] - 0s 4ms/step - loss: 0.9952\n",
            "Epoch 44/200\n",
            "10/10 [==============================] - 0s 5ms/step - loss: 0.9956\n",
            "Epoch 45/200\n",
            "10/10 [==============================] - 0s 5ms/step - loss: 0.9950\n",
            "Epoch 46/200\n",
            "10/10 [==============================] - 0s 5ms/step - loss: 0.9958\n",
            "Epoch 47/200\n",
            "10/10 [==============================] - 0s 6ms/step - loss: 0.9963\n",
            "Epoch 48/200\n",
            "10/10 [==============================] - 0s 5ms/step - loss: 0.9955\n",
            "Epoch 49/200\n",
            "10/10 [==============================] - 0s 7ms/step - loss: 0.9956\n",
            "Epoch 50/200\n",
            "10/10 [==============================] - 0s 6ms/step - loss: 0.9950\n",
            "Epoch 51/200\n",
            "10/10 [==============================] - 0s 4ms/step - loss: 0.9955\n",
            "Epoch 52/200\n",
            "10/10 [==============================] - 0s 4ms/step - loss: 0.9949\n",
            "Epoch 53/200\n",
            "10/10 [==============================] - 0s 4ms/step - loss: 0.9950\n",
            "Epoch 54/200\n",
            "10/10 [==============================] - 0s 4ms/step - loss: 0.9946\n",
            "Epoch 55/200\n",
            "10/10 [==============================] - 0s 4ms/step - loss: 0.9956\n",
            "Epoch 56/200\n",
            "10/10 [==============================] - 0s 4ms/step - loss: 0.9952\n",
            "Epoch 57/200\n",
            "10/10 [==============================] - 0s 4ms/step - loss: 0.9946\n",
            "Epoch 58/200\n",
            "10/10 [==============================] - 0s 3ms/step - loss: 0.9961\n",
            "Epoch 59/200\n",
            "10/10 [==============================] - 0s 4ms/step - loss: 0.9959\n",
            "Epoch 60/200\n",
            "10/10 [==============================] - 0s 4ms/step - loss: 0.9945\n",
            "Epoch 61/200\n",
            "10/10 [==============================] - 0s 4ms/step - loss: 0.9956\n",
            "Epoch 62/200\n",
            "10/10 [==============================] - 0s 4ms/step - loss: 0.9949\n",
            "Epoch 63/200\n",
            "10/10 [==============================] - 0s 4ms/step - loss: 0.9956\n",
            "Epoch 64/200\n",
            "10/10 [==============================] - 0s 4ms/step - loss: 0.9945\n",
            "Epoch 65/200\n",
            "10/10 [==============================] - 0s 5ms/step - loss: 0.9956\n",
            "Epoch 66/200\n",
            "10/10 [==============================] - 0s 4ms/step - loss: 0.9953\n",
            "Epoch 67/200\n",
            "10/10 [==============================] - 0s 4ms/step - loss: 0.9951\n",
            "Epoch 68/200\n",
            "10/10 [==============================] - 0s 4ms/step - loss: 0.9953\n",
            "Epoch 69/200\n",
            "10/10 [==============================] - 0s 4ms/step - loss: 0.9951\n",
            "Epoch 70/200\n",
            "10/10 [==============================] - 0s 4ms/step - loss: 0.9943\n",
            "Epoch 71/200\n",
            "10/10 [==============================] - 0s 4ms/step - loss: 0.9947\n",
            "Epoch 72/200\n",
            "10/10 [==============================] - 0s 5ms/step - loss: 0.9944\n",
            "Epoch 73/200\n",
            "10/10 [==============================] - 0s 5ms/step - loss: 0.9941\n",
            "Epoch 74/200\n",
            "10/10 [==============================] - 0s 5ms/step - loss: 0.9944\n",
            "Epoch 75/200\n",
            "10/10 [==============================] - 0s 5ms/step - loss: 0.9942\n",
            "Epoch 76/200\n",
            "10/10 [==============================] - 0s 5ms/step - loss: 0.9949\n",
            "Epoch 77/200\n",
            "10/10 [==============================] - 0s 5ms/step - loss: 0.9943\n",
            "Epoch 78/200\n",
            "10/10 [==============================] - 0s 4ms/step - loss: 0.9945\n",
            "Epoch 79/200\n",
            "10/10 [==============================] - 0s 5ms/step - loss: 0.9942\n",
            "Epoch 80/200\n",
            "10/10 [==============================] - 0s 4ms/step - loss: 0.9952\n",
            "Epoch 81/200\n",
            "10/10 [==============================] - 0s 4ms/step - loss: 0.9967\n",
            "Epoch 82/200\n",
            "10/10 [==============================] - 0s 4ms/step - loss: 0.9943\n",
            "Epoch 83/200\n",
            "10/10 [==============================] - 0s 5ms/step - loss: 0.9942\n",
            "Epoch 84/200\n",
            "10/10 [==============================] - 0s 4ms/step - loss: 0.9944\n",
            "Epoch 85/200\n",
            "10/10 [==============================] - 0s 4ms/step - loss: 0.9947\n",
            "Epoch 86/200\n",
            "10/10 [==============================] - 0s 4ms/step - loss: 0.9937\n",
            "Epoch 87/200\n",
            "10/10 [==============================] - 0s 5ms/step - loss: 0.9938\n",
            "Epoch 88/200\n",
            "10/10 [==============================] - 0s 5ms/step - loss: 0.9938\n",
            "Epoch 89/200\n",
            "10/10 [==============================] - 0s 5ms/step - loss: 0.9937\n",
            "Epoch 90/200\n",
            "10/10 [==============================] - 0s 5ms/step - loss: 0.9937\n",
            "Epoch 91/200\n",
            "10/10 [==============================] - 0s 5ms/step - loss: 0.9936\n",
            "Epoch 92/200\n",
            "10/10 [==============================] - 0s 5ms/step - loss: 0.9937\n",
            "Epoch 93/200\n",
            "10/10 [==============================] - 0s 5ms/step - loss: 0.9938\n",
            "Epoch 94/200\n",
            "10/10 [==============================] - 0s 5ms/step - loss: 0.9941\n",
            "Epoch 95/200\n",
            "10/10 [==============================] - 0s 4ms/step - loss: 0.9939\n",
            "Epoch 96/200\n",
            "10/10 [==============================] - 0s 5ms/step - loss: 0.9936\n",
            "Epoch 97/200\n",
            "10/10 [==============================] - 0s 4ms/step - loss: 0.9939\n",
            "Epoch 98/200\n",
            "10/10 [==============================] - 0s 4ms/step - loss: 0.9939\n",
            "Epoch 99/200\n",
            "10/10 [==============================] - 0s 4ms/step - loss: 0.9936\n",
            "Epoch 100/200\n",
            "10/10 [==============================] - 0s 5ms/step - loss: 0.9933\n",
            "Epoch 101/200\n",
            "10/10 [==============================] - 0s 5ms/step - loss: 0.9936\n",
            "Epoch 102/200\n"
          ]
        },
        {
          "name": "stdout",
          "output_type": "stream",
          "text": [
            "10/10 [==============================] - 0s 5ms/step - loss: 0.9932\n",
            "Epoch 103/200\n",
            "10/10 [==============================] - 0s 4ms/step - loss: 0.9932\n",
            "Epoch 104/200\n",
            "10/10 [==============================] - 0s 4ms/step - loss: 0.9933\n",
            "Epoch 105/200\n",
            "10/10 [==============================] - 0s 5ms/step - loss: 0.9947\n",
            "Epoch 106/200\n",
            "10/10 [==============================] - 0s 5ms/step - loss: 0.9942\n",
            "Epoch 107/200\n",
            "10/10 [==============================] - 0s 5ms/step - loss: 0.9936\n",
            "Epoch 108/200\n",
            "10/10 [==============================] - 0s 5ms/step - loss: 0.9944\n",
            "Epoch 109/200\n",
            "10/10 [==============================] - 0s 4ms/step - loss: 0.9937\n",
            "Epoch 110/200\n",
            "10/10 [==============================] - 0s 4ms/step - loss: 0.9937\n",
            "Epoch 111/200\n",
            "10/10 [==============================] - 0s 4ms/step - loss: 0.9941\n",
            "Epoch 112/200\n",
            "10/10 [==============================] - 0s 5ms/step - loss: 0.9940\n",
            "Epoch 113/200\n",
            "10/10 [==============================] - 0s 5ms/step - loss: 0.9930\n",
            "Epoch 114/200\n",
            "10/10 [==============================] - 0s 5ms/step - loss: 0.9933\n",
            "Epoch 115/200\n",
            "10/10 [==============================] - 0s 5ms/step - loss: 0.9933\n",
            "Epoch 116/200\n",
            "10/10 [==============================] - 0s 4ms/step - loss: 0.9934\n",
            "Epoch 117/200\n",
            "10/10 [==============================] - 0s 4ms/step - loss: 0.9934\n",
            "Epoch 118/200\n",
            "10/10 [==============================] - 0s 4ms/step - loss: 0.9939\n",
            "Epoch 119/200\n",
            "10/10 [==============================] - 0s 4ms/step - loss: 0.9930\n",
            "Epoch 120/200\n",
            "10/10 [==============================] - 0s 4ms/step - loss: 0.9934\n",
            "Epoch 121/200\n",
            "10/10 [==============================] - 0s 4ms/step - loss: 0.9940\n",
            "Epoch 122/200\n",
            "10/10 [==============================] - 0s 5ms/step - loss: 0.9930\n",
            "Epoch 123/200\n",
            "10/10 [==============================] - 0s 5ms/step - loss: 0.9928\n",
            "Epoch 124/200\n",
            "10/10 [==============================] - 0s 4ms/step - loss: 0.9938\n",
            "Epoch 125/200\n",
            "10/10 [==============================] - 0s 5ms/step - loss: 0.9931\n",
            "Epoch 126/200\n",
            "10/10 [==============================] - 0s 5ms/step - loss: 0.9940\n",
            "Epoch 127/200\n",
            "10/10 [==============================] - 0s 4ms/step - loss: 0.9933\n",
            "Epoch 128/200\n",
            "10/10 [==============================] - 0s 4ms/step - loss: 0.9925\n",
            "Epoch 129/200\n",
            "10/10 [==============================] - 0s 4ms/step - loss: 0.9943\n",
            "Epoch 130/200\n",
            "10/10 [==============================] - 0s 5ms/step - loss: 0.9926\n",
            "Epoch 131/200\n",
            "10/10 [==============================] - 0s 4ms/step - loss: 0.9925\n",
            "Epoch 132/200\n",
            "10/10 [==============================] - 0s 4ms/step - loss: 0.9933\n",
            "Epoch 133/200\n",
            "10/10 [==============================] - 0s 4ms/step - loss: 0.9931\n",
            "Epoch 134/200\n",
            "10/10 [==============================] - 0s 5ms/step - loss: 0.9928\n",
            "Epoch 135/200\n",
            "10/10 [==============================] - 0s 4ms/step - loss: 0.9935\n",
            "Epoch 136/200\n",
            "10/10 [==============================] - 0s 5ms/step - loss: 0.9934\n",
            "Epoch 137/200\n",
            "10/10 [==============================] - 0s 5ms/step - loss: 0.9925\n",
            "Epoch 138/200\n",
            "10/10 [==============================] - 0s 4ms/step - loss: 0.9923\n",
            "Epoch 139/200\n",
            "10/10 [==============================] - 0s 4ms/step - loss: 0.9923\n",
            "Epoch 140/200\n",
            "10/10 [==============================] - 0s 4ms/step - loss: 0.9926\n",
            "Epoch 141/200\n",
            "10/10 [==============================] - 0s 5ms/step - loss: 0.9927\n",
            "Epoch 142/200\n",
            "10/10 [==============================] - 0s 4ms/step - loss: 0.9950\n",
            "Epoch 143/200\n",
            "10/10 [==============================] - 0s 4ms/step - loss: 0.9921\n",
            "Epoch 144/200\n",
            "10/10 [==============================] - 0s 5ms/step - loss: 0.9924\n",
            "Epoch 145/200\n",
            "10/10 [==============================] - 0s 5ms/step - loss: 0.9923\n",
            "Epoch 146/200\n",
            "10/10 [==============================] - 0s 5ms/step - loss: 0.9931\n",
            "Epoch 147/200\n",
            "10/10 [==============================] - 0s 4ms/step - loss: 0.9922\n",
            "Epoch 148/200\n",
            "10/10 [==============================] - 0s 5ms/step - loss: 0.9925\n",
            "Epoch 149/200\n",
            "10/10 [==============================] - 0s 5ms/step - loss: 0.9922\n",
            "Epoch 150/200\n",
            "10/10 [==============================] - 0s 4ms/step - loss: 0.9924\n",
            "Epoch 151/200\n",
            "10/10 [==============================] - 0s 5ms/step - loss: 0.9928\n",
            "Epoch 152/200\n",
            "10/10 [==============================] - 0s 4ms/step - loss: 0.9924\n",
            "Epoch 153/200\n",
            "10/10 [==============================] - 0s 5ms/step - loss: 0.9922\n",
            "Epoch 154/200\n",
            "10/10 [==============================] - 0s 5ms/step - loss: 0.9926\n",
            "Epoch 155/200\n",
            "10/10 [==============================] - 0s 4ms/step - loss: 0.9921\n",
            "Epoch 156/200\n",
            "10/10 [==============================] - 0s 5ms/step - loss: 0.9921\n",
            "Epoch 157/200\n",
            "10/10 [==============================] - 0s 4ms/step - loss: 0.9927\n",
            "Epoch 158/200\n",
            "10/10 [==============================] - 0s 4ms/step - loss: 0.9924\n",
            "Epoch 159/200\n",
            "10/10 [==============================] - 0s 4ms/step - loss: 0.9926\n",
            "Epoch 160/200\n",
            "10/10 [==============================] - 0s 4ms/step - loss: 0.9917\n",
            "Epoch 161/200\n",
            "10/10 [==============================] - 0s 4ms/step - loss: 0.9922\n",
            "Epoch 162/200\n",
            "10/10 [==============================] - 0s 4ms/step - loss: 0.9925\n",
            "Epoch 163/200\n",
            "10/10 [==============================] - 0s 4ms/step - loss: 0.9916\n",
            "Epoch 164/200\n",
            "10/10 [==============================] - 0s 4ms/step - loss: 0.9920\n",
            "Epoch 165/200\n",
            "10/10 [==============================] - 0s 5ms/step - loss: 0.9926\n",
            "Epoch 166/200\n",
            "10/10 [==============================] - 0s 4ms/step - loss: 0.9916\n",
            "Epoch 167/200\n",
            "10/10 [==============================] - 0s 4ms/step - loss: 0.9921\n",
            "Epoch 168/200\n",
            "10/10 [==============================] - 0s 5ms/step - loss: 0.9919\n",
            "Epoch 169/200\n",
            "10/10 [==============================] - 0s 4ms/step - loss: 0.9922\n",
            "Epoch 170/200\n",
            "10/10 [==============================] - 0s 5ms/step - loss: 0.9923\n",
            "Epoch 171/200\n",
            "10/10 [==============================] - 0s 4ms/step - loss: 0.9920\n",
            "Epoch 172/200\n",
            "10/10 [==============================] - 0s 5ms/step - loss: 0.9919\n",
            "Epoch 173/200\n",
            "10/10 [==============================] - 0s 4ms/step - loss: 0.9925\n",
            "Epoch 174/200\n",
            "10/10 [==============================] - 0s 4ms/step - loss: 0.9916\n",
            "Epoch 175/200\n",
            "10/10 [==============================] - 0s 4ms/step - loss: 0.9912\n",
            "Epoch 176/200\n",
            "10/10 [==============================] - 0s 5ms/step - loss: 0.9916\n",
            "Epoch 177/200\n",
            "10/10 [==============================] - 0s 5ms/step - loss: 0.9913\n",
            "Epoch 178/200\n",
            "10/10 [==============================] - 0s 5ms/step - loss: 0.9923\n",
            "Epoch 179/200\n",
            "10/10 [==============================] - 0s 4ms/step - loss: 0.9911\n",
            "Epoch 180/200\n",
            "10/10 [==============================] - 0s 5ms/step - loss: 0.9921\n",
            "Epoch 181/200\n",
            "10/10 [==============================] - 0s 5ms/step - loss: 0.9918\n",
            "Epoch 182/200\n",
            "10/10 [==============================] - 0s 4ms/step - loss: 0.9915\n",
            "Epoch 183/200\n",
            "10/10 [==============================] - 0s 5ms/step - loss: 0.9910\n",
            "Epoch 184/200\n",
            "10/10 [==============================] - 0s 4ms/step - loss: 0.9921\n",
            "Epoch 185/200\n",
            "10/10 [==============================] - 0s 4ms/step - loss: 0.9913\n",
            "Epoch 186/200\n",
            "10/10 [==============================] - 0s 4ms/step - loss: 0.9911\n",
            "Epoch 187/200\n",
            "10/10 [==============================] - 0s 4ms/step - loss: 0.9912\n",
            "Epoch 188/200\n",
            "10/10 [==============================] - 0s 5ms/step - loss: 0.9930\n",
            "Epoch 189/200\n",
            "10/10 [==============================] - 0s 5ms/step - loss: 0.9919\n",
            "Epoch 190/200\n",
            "10/10 [==============================] - 0s 4ms/step - loss: 0.9910\n",
            "Epoch 191/200\n",
            "10/10 [==============================] - 0s 5ms/step - loss: 0.9921\n",
            "Epoch 192/200\n",
            "10/10 [==============================] - 0s 5ms/step - loss: 0.9913\n",
            "Epoch 193/200\n",
            "10/10 [==============================] - 0s 4ms/step - loss: 0.9908\n",
            "Epoch 194/200\n",
            "10/10 [==============================] - 0s 5ms/step - loss: 0.9908\n",
            "Epoch 195/200\n",
            "10/10 [==============================] - 0s 5ms/step - loss: 0.9915\n",
            "Epoch 196/200\n",
            "10/10 [==============================] - 0s 4ms/step - loss: 0.9909\n",
            "Epoch 197/200\n",
            "10/10 [==============================] - 0s 4ms/step - loss: 0.9922\n",
            "Epoch 198/200\n",
            "10/10 [==============================] - 0s 4ms/step - loss: 0.9917\n",
            "Epoch 199/200\n",
            "10/10 [==============================] - 0s 4ms/step - loss: 0.9907\n",
            "Epoch 200/200\n",
            "10/10 [==============================] - 0s 4ms/step - loss: 0.9920\n"
          ]
        }
      ],
      "source": [
        "# Reshape data for RNN: [samples, time steps, features]\n",
        "X_train = X.reshape((X.shape[0], 1, X.shape[1]))\n",
        "# Train the model\n",
        "history = model.fit(X_train, y, epochs=200, batch_size=10, verbose=1)"
      ]
    },
    {
      "cell_type": "code",
      "execution_count": null,
      "metadata": {
        "id": "4J5Vm5sfZWr3",
        "outputId": "bf0ad044-27b9-4804-a799-7239f1ea7261"
      },
      "outputs": [
        {
          "name": "stdout",
          "output_type": "stream",
          "text": [
            "1/1 [==============================] - 0s 178ms/step\n",
            "Predicted: [[-0.09370148]]\n"
          ]
        }
      ],
      "source": [
        "sample = X_train[0]\n",
        "sample = sample.reshape((1, 1, 1))\n",
        "# Predict the next number in the sequence\n",
        "prediction = model.predict(sample)\n",
        "print(\"Predicted:\", prediction)"
      ]
    },
    {
      "cell_type": "code",
      "execution_count": null,
      "metadata": {
        "id": "K0CJgcXhZWr4",
        "outputId": "1d31111d-f57c-464c-9c06-91a0e4f2f4a1"
      },
      "outputs": [
        {
          "data": {
            "text/plain": [
              "array([-1.26852479])"
            ]
          },
          "execution_count": 7,
          "metadata": {},
          "output_type": "execute_result"
        }
      ],
      "source": [
        "y[0]"
      ]
    },
    {
      "cell_type": "code",
      "execution_count": null,
      "metadata": {
        "id": "v8JmwpSCZWr4",
        "outputId": "8ff6c89d-4717-46e2-e50f-89c3c9288c56"
      },
      "outputs": [
        {
          "name": "stdout",
          "output_type": "stream",
          "text": [
            "1/1 [==============================] - 0s 23ms/step\n",
            "Predicted: [[-0.09370148]]\n"
          ]
        },
        {
          "data": {
            "text/plain": [
              "'Batch_size of 10 means that the network will process 1- traning examples at a time out of 100. \\none after another. This is just like our cnn models when batch_size =20 means that it is cosidering 20 \\nimages at the time of training'"
            ]
          },
          "execution_count": 8,
          "metadata": {},
          "output_type": "execute_result"
        }
      ],
      "source": [
        "# Take one sample from the dataset\n",
        "sample = X_train[0]\n",
        "\n",
        "# Reshape it as required by the RNN\n",
        "'''explanation for (1,1,1)\n",
        "first 1: idicates that you have one batch or one sample\n",
        "second1: represents the number of timesteps in the sequnece you want RNN to consider\n",
        "third1: Number of features per timestep that the RNN is expecting. Since we\n",
        "are working with univariate data (one number per timestep ) it is set to 1'''\n",
        "sample = sample.reshape((1, 1, 1))\n",
        "\n",
        "# Predict the next number in the sequence\n",
        "prediction = model.predict(sample)\n",
        "print(\"Predicted:\", prediction)\n",
        "\n",
        "\n",
        "'''Batch_size of 10 means that the network will process 1- traning examples at a time out of 100.\n",
        "one after another. This is just like our cnn models when batch_size =20 means that it is cosidering 20\n",
        "images at the time of training'''"
      ]
    },
    {
      "cell_type": "code",
      "execution_count": null,
      "metadata": {
        "id": "7jooeF0oZWr5",
        "outputId": "23fffb93-46f0-42ca-eace-6551c3a1af1e"
      },
      "outputs": [
        {
          "data": {
            "text/plain": [
              "array([-1.26852479])"
            ]
          },
          "execution_count": 9,
          "metadata": {},
          "output_type": "execute_result"
        }
      ],
      "source": [
        "y[0]"
      ]
    },
    {
      "cell_type": "code",
      "execution_count": null,
      "metadata": {
        "id": "ahS2qSslZWr5"
      },
      "outputs": [],
      "source": []
    },
    {
      "cell_type": "code",
      "execution_count": null,
      "metadata": {
        "id": "iLX4wQRwZWr6"
      },
      "outputs": [],
      "source": []
    },
    {
      "cell_type": "code",
      "execution_count": null,
      "metadata": {
        "id": "Kwycmlv7ZWr6"
      },
      "outputs": [],
      "source": []
    },
    {
      "cell_type": "markdown",
      "metadata": {
        "id": "xzL8cQJ7ZWr6"
      },
      "source": [
        "## Sbi Stock price prediction using RNN and LSTM"
      ]
    },
    {
      "cell_type": "code",
      "execution_count": null,
      "metadata": {
        "id": "6vX6ZgmgZWr8"
      },
      "outputs": [],
      "source": [
        "import numpy as np\n",
        "import pandas as pd\n",
        "from keras.models import Sequential\n",
        "from keras.layers import SimpleRNN, Dense\n",
        "from datetime import datetime\n",
        "\n",
        "\n",
        "st_data=pd.read_csv(\"nse_sbi_data.csv\")\n",
        "st_data.shape #shape is 248 rows and 14 columns\n",
        "end_date = str(datetime.now().date())\n"
      ]
    },
    {
      "cell_type": "code",
      "execution_count": null,
      "metadata": {
        "id": "7xAVTfdkZWr8"
      },
      "outputs": [],
      "source": [
        "# Use 'Close' column as the feature to predict\n",
        "closing_prices = st_data['close'].values\n",
        "\n",
        "# Normalize the data\n",
        "closing_prices_n = (closing_prices - np.mean(closing_prices)) / np.std(closing_prices)"
      ]
    },
    {
      "cell_type": "code",
      "execution_count": null,
      "metadata": {
        "id": "PIF-ATZmZWr8",
        "outputId": "d4ee08ae-b68b-401f-ca55-61a65ee6e86d"
      },
      "outputs": [
        {
          "data": {
            "text/plain": [
              "'For each index i, we take the value of closing_prices_n that is time_window steps ahead. \\nThis value is the target that the RNN should learn to predict from the input sequence starting at index i.'"
            ]
          },
          "execution_count": 13,
          "metadata": {},
          "output_type": "execute_result"
        }
      ],
      "source": [
        "'''defines the size of the window of consecutive data points that you are using to make a single prediction.\n",
        "It's specifying how many past observations will be considered by the model to predict the next one.'''\n",
        "time_window = 5\n",
        "X = np.array([closing_prices_n[i:(i + time_window)] for i in range(len(closing_prices_n) - time_window)])\n",
        "'''For each iteration i, we create a subsequence of the data that starts at index i and spans time_window number of steps.\n",
        "This subsequence is used as a single input sequence for the RNN.'''\n",
        "\n",
        "y = np.array([closing_prices_n[i + time_window] for i in range(len(closing_prices_n) - time_window)])\n",
        "'''For each index i, we take the value of closing_prices_n that is time_window steps ahead.\n",
        "This value is the target that the RNN should learn to predict from the input sequence starting at index i.'''"
      ]
    },
    {
      "cell_type": "code",
      "execution_count": null,
      "metadata": {
        "id": "ooVphqZSZWr9"
      },
      "outputs": [],
      "source": [
        "# Reshape data for RNN: [samples, time steps, features]\n",
        "X_train = X.reshape((X.shape[0], time_window, 1))\n",
        "y_train = y.reshape((y.shape[0], 1))"
      ]
    },
    {
      "cell_type": "code",
      "execution_count": null,
      "metadata": {
        "id": "OL4EVtCiZWr9"
      },
      "outputs": [],
      "source": [
        "# Make sure to reshape the last sequence based on the new time_window\n",
        "last_sequence = X_train[-1].reshape((1, time_window, 1))"
      ]
    },
    {
      "cell_type": "code",
      "execution_count": null,
      "metadata": {
        "id": "julyND2gZWr9"
      },
      "outputs": [],
      "source": [
        "# Initialize the RNN model\n",
        "model = Sequential()\n",
        "model.add(SimpleRNN(10, input_shape=(time_window, 1), activation='tanh'))\n",
        "model.add(Dense(1, activation='linear'))\n",
        "\n",
        "# Compile the model\n",
        "model.compile(optimizer='adam', loss='mean_squared_error')"
      ]
    },
    {
      "cell_type": "code",
      "execution_count": null,
      "metadata": {
        "id": "PelZnD9YZWr-",
        "outputId": "d92f0ee4-cf37-4ec7-bcd1-765e329b144e"
      },
      "outputs": [
        {
          "name": "stdout",
          "output_type": "stream",
          "text": [
            "Epoch 1/100\n",
            "16/16 [==============================] - 1s 7ms/step - loss: 0.5727\n",
            "Epoch 2/100\n",
            "16/16 [==============================] - 0s 8ms/step - loss: 0.4187\n",
            "Epoch 3/100\n",
            "16/16 [==============================] - 0s 7ms/step - loss: 0.3434\n",
            "Epoch 4/100\n",
            "16/16 [==============================] - 0s 7ms/step - loss: 0.2972\n",
            "Epoch 5/100\n",
            "16/16 [==============================] - 0s 8ms/step - loss: 0.2635\n",
            "Epoch 6/100\n",
            "16/16 [==============================] - 0s 8ms/step - loss: 0.2380\n",
            "Epoch 7/100\n",
            "16/16 [==============================] - 0s 9ms/step - loss: 0.2149\n",
            "Epoch 8/100\n",
            "16/16 [==============================] - 0s 7ms/step - loss: 0.1957\n",
            "Epoch 9/100\n",
            "16/16 [==============================] - 0s 7ms/step - loss: 0.1795\n",
            "Epoch 10/100\n",
            "16/16 [==============================] - 0s 6ms/step - loss: 0.1653\n",
            "Epoch 11/100\n",
            "16/16 [==============================] - 0s 6ms/step - loss: 0.1535\n",
            "Epoch 12/100\n",
            "16/16 [==============================] - 0s 7ms/step - loss: 0.1441\n",
            "Epoch 13/100\n",
            "16/16 [==============================] - 0s 7ms/step - loss: 0.1361\n",
            "Epoch 14/100\n",
            "16/16 [==============================] - 0s 7ms/step - loss: 0.1292\n",
            "Epoch 15/100\n",
            "16/16 [==============================] - 0s 8ms/step - loss: 0.1233\n",
            "Epoch 16/100\n",
            "16/16 [==============================] - 0s 8ms/step - loss: 0.1175\n",
            "Epoch 17/100\n",
            "16/16 [==============================] - 0s 7ms/step - loss: 0.1128\n",
            "Epoch 18/100\n",
            "16/16 [==============================] - 0s 7ms/step - loss: 0.1092\n",
            "Epoch 19/100\n",
            "16/16 [==============================] - 0s 7ms/step - loss: 0.1058\n",
            "Epoch 20/100\n",
            "16/16 [==============================] - 0s 7ms/step - loss: 0.1027\n",
            "Epoch 21/100\n",
            "16/16 [==============================] - 0s 7ms/step - loss: 0.0999\n",
            "Epoch 22/100\n",
            "16/16 [==============================] - 0s 7ms/step - loss: 0.0981\n",
            "Epoch 23/100\n",
            "16/16 [==============================] - 0s 7ms/step - loss: 0.0955\n",
            "Epoch 24/100\n",
            "16/16 [==============================] - 0s 6ms/step - loss: 0.0942\n",
            "Epoch 25/100\n",
            "16/16 [==============================] - 0s 7ms/step - loss: 0.0925\n",
            "Epoch 26/100\n",
            "16/16 [==============================] - 0s 6ms/step - loss: 0.0913\n",
            "Epoch 27/100\n",
            "16/16 [==============================] - 0s 7ms/step - loss: 0.0900\n",
            "Epoch 28/100\n",
            "16/16 [==============================] - 0s 7ms/step - loss: 0.0890\n",
            "Epoch 29/100\n",
            "16/16 [==============================] - 0s 6ms/step - loss: 0.0883\n",
            "Epoch 30/100\n",
            "16/16 [==============================] - 0s 6ms/step - loss: 0.0871\n",
            "Epoch 31/100\n",
            "16/16 [==============================] - 0s 6ms/step - loss: 0.0863\n",
            "Epoch 32/100\n",
            "16/16 [==============================] - 0s 6ms/step - loss: 0.0855\n",
            "Epoch 33/100\n",
            "16/16 [==============================] - 0s 7ms/step - loss: 0.0850\n",
            "Epoch 34/100\n",
            "16/16 [==============================] - 0s 7ms/step - loss: 0.0848\n",
            "Epoch 35/100\n",
            "16/16 [==============================] - 0s 8ms/step - loss: 0.0841\n",
            "Epoch 36/100\n",
            "16/16 [==============================] - 0s 12ms/step - loss: 0.0837\n",
            "Epoch 37/100\n",
            "16/16 [==============================] - 0s 7ms/step - loss: 0.0845\n",
            "Epoch 38/100\n",
            "16/16 [==============================] - 0s 7ms/step - loss: 0.0831\n",
            "Epoch 39/100\n",
            "16/16 [==============================] - 0s 7ms/step - loss: 0.0833\n",
            "Epoch 40/100\n",
            "16/16 [==============================] - 0s 7ms/step - loss: 0.0835\n",
            "Epoch 41/100\n",
            "16/16 [==============================] - 0s 7ms/step - loss: 0.0826\n",
            "Epoch 42/100\n",
            "16/16 [==============================] - 0s 7ms/step - loss: 0.0826\n",
            "Epoch 43/100\n",
            "16/16 [==============================] - 0s 7ms/step - loss: 0.0827\n",
            "Epoch 44/100\n",
            "16/16 [==============================] - 0s 7ms/step - loss: 0.0825\n",
            "Epoch 45/100\n",
            "16/16 [==============================] - 0s 9ms/step - loss: 0.0819\n",
            "Epoch 46/100\n",
            "16/16 [==============================] - 0s 11ms/step - loss: 0.0820\n",
            "Epoch 47/100\n",
            "16/16 [==============================] - 0s 8ms/step - loss: 0.0817\n",
            "Epoch 48/100\n",
            "16/16 [==============================] - 0s 7ms/step - loss: 0.0813\n",
            "Epoch 49/100\n",
            "16/16 [==============================] - 0s 8ms/step - loss: 0.0808\n",
            "Epoch 50/100\n",
            "16/16 [==============================] - 0s 8ms/step - loss: 0.0821\n",
            "Epoch 51/100\n",
            "16/16 [==============================] - 0s 7ms/step - loss: 0.0811\n",
            "Epoch 52/100\n",
            "16/16 [==============================] - 0s 7ms/step - loss: 0.0807\n",
            "Epoch 53/100\n",
            "16/16 [==============================] - 0s 8ms/step - loss: 0.0800\n",
            "Epoch 54/100\n",
            "16/16 [==============================] - 0s 10ms/step - loss: 0.0810\n",
            "Epoch 55/100\n",
            "16/16 [==============================] - 0s 10ms/step - loss: 0.0801\n",
            "Epoch 56/100\n",
            "16/16 [==============================] - 0s 7ms/step - loss: 0.0800\n",
            "Epoch 57/100\n",
            "16/16 [==============================] - 0s 7ms/step - loss: 0.0802\n",
            "Epoch 58/100\n",
            "16/16 [==============================] - 0s 7ms/step - loss: 0.0795\n",
            "Epoch 59/100\n",
            "16/16 [==============================] - 0s 7ms/step - loss: 0.0799\n",
            "Epoch 60/100\n",
            "16/16 [==============================] - 0s 7ms/step - loss: 0.0794\n",
            "Epoch 61/100\n",
            "16/16 [==============================] - 0s 7ms/step - loss: 0.0793\n",
            "Epoch 62/100\n",
            "16/16 [==============================] - 0s 7ms/step - loss: 0.0790\n",
            "Epoch 63/100\n",
            "16/16 [==============================] - 0s 10ms/step - loss: 0.0790\n",
            "Epoch 64/100\n",
            "16/16 [==============================] - 0s 9ms/step - loss: 0.0788\n",
            "Epoch 65/100\n",
            "16/16 [==============================] - 0s 7ms/step - loss: 0.0786\n",
            "Epoch 66/100\n",
            "16/16 [==============================] - 0s 7ms/step - loss: 0.0785\n",
            "Epoch 67/100\n",
            "16/16 [==============================] - 0s 8ms/step - loss: 0.0785\n",
            "Epoch 68/100\n",
            "16/16 [==============================] - 0s 7ms/step - loss: 0.0783\n",
            "Epoch 69/100\n",
            "16/16 [==============================] - 0s 9ms/step - loss: 0.0789\n",
            "Epoch 70/100\n",
            "16/16 [==============================] - 0s 13ms/step - loss: 0.0785\n",
            "Epoch 71/100\n",
            "16/16 [==============================] - 0s 9ms/step - loss: 0.0780\n",
            "Epoch 72/100\n",
            "16/16 [==============================] - 0s 6ms/step - loss: 0.0779\n",
            "Epoch 73/100\n",
            "16/16 [==============================] - 0s 6ms/step - loss: 0.0779\n",
            "Epoch 74/100\n",
            "16/16 [==============================] - 0s 5ms/step - loss: 0.0781\n",
            "Epoch 75/100\n",
            "16/16 [==============================] - 0s 5ms/step - loss: 0.0780\n",
            "Epoch 76/100\n",
            "16/16 [==============================] - 0s 7ms/step - loss: 0.0779\n",
            "Epoch 77/100\n",
            "16/16 [==============================] - 0s 7ms/step - loss: 0.0788\n",
            "Epoch 78/100\n",
            "16/16 [==============================] - 0s 8ms/step - loss: 0.0786\n",
            "Epoch 79/100\n",
            "16/16 [==============================] - 0s 7ms/step - loss: 0.0779\n",
            "Epoch 80/100\n",
            "16/16 [==============================] - 0s 8ms/step - loss: 0.0777\n",
            "Epoch 81/100\n",
            "16/16 [==============================] - 0s 8ms/step - loss: 0.0781\n",
            "Epoch 82/100\n",
            "16/16 [==============================] - 0s 7ms/step - loss: 0.0779\n",
            "Epoch 83/100\n",
            "16/16 [==============================] - 0s 8ms/step - loss: 0.0779\n",
            "Epoch 84/100\n",
            "16/16 [==============================] - 0s 8ms/step - loss: 0.0772\n",
            "Epoch 85/100\n",
            "16/16 [==============================] - 0s 10ms/step - loss: 0.0777\n",
            "Epoch 86/100\n",
            "16/16 [==============================] - 0s 7ms/step - loss: 0.0771\n",
            "Epoch 87/100\n",
            "16/16 [==============================] - 0s 7ms/step - loss: 0.0773\n",
            "Epoch 88/100\n",
            "16/16 [==============================] - 0s 6ms/step - loss: 0.0772\n",
            "Epoch 89/100\n",
            "16/16 [==============================] - 0s 6ms/step - loss: 0.0770\n",
            "Epoch 90/100\n",
            "16/16 [==============================] - 0s 6ms/step - loss: 0.0770\n",
            "Epoch 91/100\n",
            "16/16 [==============================] - 0s 6ms/step - loss: 0.0776\n",
            "Epoch 92/100\n",
            "16/16 [==============================] - 0s 5ms/step - loss: 0.0770\n",
            "Epoch 93/100\n",
            "16/16 [==============================] - 0s 5ms/step - loss: 0.0768\n",
            "Epoch 94/100\n",
            "16/16 [==============================] - 0s 5ms/step - loss: 0.0778\n",
            "Epoch 95/100\n",
            "16/16 [==============================] - 0s 7ms/step - loss: 0.0767\n",
            "Epoch 96/100\n",
            "16/16 [==============================] - 0s 9ms/step - loss: 0.0770\n",
            "Epoch 97/100\n",
            "16/16 [==============================] - 0s 7ms/step - loss: 0.0768\n",
            "Epoch 98/100\n",
            "16/16 [==============================] - 0s 12ms/step - loss: 0.0773\n",
            "Epoch 99/100\n",
            "16/16 [==============================] - 0s 11ms/step - loss: 0.0781\n",
            "Epoch 100/100\n",
            "16/16 [==============================] - 0s 10ms/step - loss: 0.0765\n"
          ]
        }
      ],
      "source": [
        "# Train the model\n",
        "history = model.fit(X_train, y_train, epochs=100, batch_size=16, verbose=1)"
      ]
    },
    {
      "cell_type": "code",
      "execution_count": null,
      "metadata": {
        "id": "t-ohCzYrZWr-",
        "outputId": "c1b016ac-4dd5-48ce-dd78-aabe24066382"
      },
      "outputs": [
        {
          "name": "stdout",
          "output_type": "stream",
          "text": [
            "1/1 [==============================] - 0s 131ms/step\n",
            "The predicted next closing price for SBI is 606.557861328125\n"
          ]
        }
      ],
      "source": [
        "# Predict the next closing price\n",
        "last_sequence = X_train[-1].reshape((1, time_window, 1))\n",
        "predicted_price = model.predict(last_sequence)\n",
        "normalized_predicted_price = predicted_price * np.std(closing_prices) + np.mean(closing_prices)\n",
        "\n",
        "print(f\"The predicted next closing price for SBI is {normalized_predicted_price[0][0]}\")"
      ]
    },
    {
      "cell_type": "code",
      "execution_count": null,
      "metadata": {
        "id": "oo01y__QZWr-",
        "outputId": "adf73271-b3c9-45d7-fcdb-7d3591b5c56c"
      },
      "outputs": [
        {
          "name": "stdout",
          "output_type": "stream",
          "text": [
            "1/1 [==============================] - 0s 20ms/step\n",
            "1/1 [==============================] - 0s 22ms/step\n",
            "1/1 [==============================] - 0s 17ms/step\n",
            "1/1 [==============================] - 0s 27ms/step\n",
            "1/1 [==============================] - 0s 23ms/step\n",
            "1/1 [==============================] - 0s 26ms/step\n",
            "1/1 [==============================] - 0s 25ms/step\n",
            "1/1 [==============================] - 0s 23ms/step\n",
            "1/1 [==============================] - 0s 24ms/step\n",
            "1/1 [==============================] - 0s 22ms/step\n",
            "Actual price: 616.75, Predicted price: 618.45\n",
            "Actual price: 613.05, Predicted price: 614.10\n",
            "Actual price: 616.50, Predicted price: 611.08\n",
            "Actual price: 611.65, Predicted price: 612.26\n",
            "Actual price: 607.05, Predicted price: 609.05\n",
            "Actual price: 608.95, Predicted price: 605.65\n",
            "Actual price: 617.30, Predicted price: 606.15\n",
            "Actual price: 607.55, Predicted price: 612.58\n",
            "Actual price: 608.10, Predicted price: 605.66\n",
            "Actual price: 602.45, Predicted price: 606.56\n"
          ]
        }
      ],
      "source": [
        "# Function to take a sequence and model and predict the next closing price\n",
        "'''We define a function named predict_next_price that takes two arguments:\n",
        "sequence, which is the input sequence of normalized prices, and model, which is the trained RNN model.'''\n",
        "\n",
        "def predict_next_price(sequence, model):\n",
        "    # Reshape the sequence to match the model's input shape\n",
        "    '''Within the function, we reshape the sequence to match the input shape that the RNN model expects.\n",
        "    The shape is (1, time_window, 1), which corresponds to (batch_size, time_steps, features).'''\n",
        "    sequence = sequence.reshape((1, time_window, 1))\n",
        "    # Predict the next price\n",
        "    '''We use the model to predict the next price, using the reshaped sequence as input.\n",
        "    The model.predict function outputs the normalized price prediction.'''\n",
        "    predicted_price = model.predict(sequence)\n",
        "    # Denormalize the predicted price\n",
        "    '''The predicted price, which is in a normalized form, is denormalized by multiplying it with the\n",
        "    standard deviation of the original closing prices and then adding the mean of the original closing prices.'''\n",
        "    denormalized_predicted_price = (predicted_price * np.std(closing_prices)) + np.mean(closing_prices)\n",
        "    return denormalized_predicted_price[0, 0]\n",
        "\n",
        "# Predict the last 10 closing prices\n",
        "predictions = []\n",
        "actual = closing_prices[-10:]\n",
        "\n",
        "# We start from the end and move backwards with each prediction\n",
        "'''Inside the loop, for each iteration, we calculate the start and end index to slice the input sequence\n",
        "from the normalized prices. We adjust the indices to take the correct time window of prices\n",
        "leading up to the price we want to predict.'''\n",
        "for i in range(10):\n",
        "    start_index = -time_window - 10 + i\n",
        "    end_index = len(closing_prices_n) - 10 + i\n",
        "    sequence = closing_prices_n[start_index:end_index]\n",
        "    '''We call the predict_next_price function with the current sequence and\n",
        "    the trained model to get the predicted price.'''\n",
        "    predicted_price = predict_next_price(sequence, model)\n",
        "    predictions.append(predicted_price)\n",
        "\n",
        "# Print out the actual and predicted prices\n",
        "for i in range(10):\n",
        "    print(f\"Actual price: {actual[i]:.2f}, Predicted price: {predictions[i]:.2f}\")\n"
      ]
    },
    {
      "cell_type": "markdown",
      "metadata": {
        "id": "iu2JipNLZWr_"
      },
      "source": [
        "## LSTM Text edample"
      ]
    },
    {
      "cell_type": "code",
      "execution_count": null,
      "metadata": {
        "id": "fZ8nhSqQZWr_",
        "outputId": "87af3279-dee5-4ac8-8295-a10e04254a84"
      },
      "outputs": [
        {
          "name": "stdout",
          "output_type": "stream",
          "text": [
            "Epoch 1/10\n",
            "1/1 [==============================] - 4s 4s/step - loss: 0.6904 - accuracy: 1.0000\n",
            "Epoch 2/10\n",
            "1/1 [==============================] - 0s 13ms/step - loss: 0.6887 - accuracy: 1.0000\n",
            "Epoch 3/10\n",
            "1/1 [==============================] - 0s 13ms/step - loss: 0.6869 - accuracy: 1.0000\n",
            "Epoch 4/10\n",
            "1/1 [==============================] - 0s 15ms/step - loss: 0.6851 - accuracy: 1.0000\n",
            "Epoch 5/10\n",
            "1/1 [==============================] - 0s 12ms/step - loss: 0.6831 - accuracy: 1.0000\n",
            "Epoch 6/10\n",
            "1/1 [==============================] - 0s 12ms/step - loss: 0.6811 - accuracy: 1.0000\n",
            "Epoch 7/10\n",
            "1/1 [==============================] - 0s 12ms/step - loss: 0.6790 - accuracy: 1.0000\n",
            "Epoch 8/10\n",
            "1/1 [==============================] - 0s 13ms/step - loss: 0.6767 - accuracy: 1.0000\n",
            "Epoch 9/10\n",
            "1/1 [==============================] - 0s 13ms/step - loss: 0.6743 - accuracy: 1.0000\n",
            "Epoch 10/10\n",
            "1/1 [==============================] - 0s 13ms/step - loss: 0.6717 - accuracy: 1.0000\n",
            "1/1 [==============================] - 0s 421ms/step\n",
            "Prediction (closer to 1 means more positive): 0.5055822\n"
          ]
        }
      ],
      "source": [
        "import numpy as np\n",
        "import tensorflow as tf\n",
        "from tensorflow.keras.preprocessing.text import Tokenizer\n",
        "from tensorflow.keras.preprocessing.sequence import pad_sequences\n",
        "from tensorflow.keras.models import Sequential\n",
        "from tensorflow.keras.layers import Embedding, LSTM, Dense\n",
        "\n",
        "# Sample dataset\n",
        "# Replace this with your actual text data and labels\n",
        "texts = [\"I love this product\", \"This is a great product\", \"Poor quality, totally bad\", \"Not what I expected\", \"Could be better\", \"I absolutely love this!\"]\n",
        "labels = [1, 1, 0, 0, 0, 1]  # 1 for positive, 0 for negative\n",
        "\n",
        "# Tokenize the text\n",
        "tokenizer = Tokenizer(num_words=100)\n",
        "tokenizer.fit_on_texts(texts)\n",
        "sequences = tokenizer.texts_to_sequences(texts)\n",
        "\n",
        "# Pad the sequences to ensure uniform length\n",
        "maxlen = max(len(x) for x in sequences)\n",
        "X = pad_sequences(sequences, maxlen=maxlen)\n",
        "\n",
        "# Convert labels to numpy array\n",
        "y = np.array(labels)\n",
        "\n",
        "# Define the LSTM model\n",
        "model = Sequential()\n",
        "model.add(Embedding(input_dim=100, output_dim=32, input_length=maxlen))\n",
        "model.add(LSTM(32))\n",
        "model.add(Dense(1, activation='sigmoid'))  # 'sigmoid' for binary classification\n",
        "\n",
        "# Compile the model\n",
        "model.compile(optimizer='adam', loss='binary_crossentropy', metrics=['accuracy'])\n",
        "\n",
        "# Fit the model\n",
        "model.fit(X, y, epochs=10, verbose=1)\n",
        "\n",
        "# Example prediction\n",
        "test_text = [\"I didn't like this product at all\"]\n",
        "test_seq = tokenizer.texts_to_sequences(test_text)\n",
        "test_seq_padded = pad_sequences(test_seq, maxlen=maxlen)\n",
        "prediction = model.predict(test_seq_padded)\n",
        "print(\"Prediction (closer to 1 means more positive):\", prediction[0][0])\n"
      ]
    },
    {
      "cell_type": "code",
      "execution_count": null,
      "metadata": {
        "id": "4H7BXrIKZWr_"
      },
      "outputs": [],
      "source": []
    },
    {
      "cell_type": "code",
      "execution_count": null,
      "metadata": {
        "id": "Bq0iP_d9ZWsA"
      },
      "outputs": [],
      "source": []
    },
    {
      "cell_type": "code",
      "execution_count": null,
      "metadata": {
        "id": "th3No19nZWsA"
      },
      "outputs": [],
      "source": []
    },
    {
      "cell_type": "code",
      "execution_count": null,
      "metadata": {
        "id": "y9mro42RZWsA"
      },
      "outputs": [],
      "source": []
    },
    {
      "cell_type": "code",
      "execution_count": null,
      "metadata": {
        "id": "I5nblhc0ZWsA"
      },
      "outputs": [],
      "source": []
    },
    {
      "cell_type": "code",
      "execution_count": null,
      "metadata": {
        "id": "vHyhh5YJZWsA"
      },
      "outputs": [],
      "source": []
    },
    {
      "cell_type": "code",
      "execution_count": null,
      "metadata": {
        "id": "ANhM-QD_ZWsA"
      },
      "outputs": [],
      "source": []
    },
    {
      "cell_type": "code",
      "execution_count": null,
      "metadata": {
        "id": "f5fdcR1FZWsB"
      },
      "outputs": [],
      "source": []
    },
    {
      "cell_type": "code",
      "execution_count": null,
      "metadata": {
        "id": "LlN5RYz9ZWsB"
      },
      "outputs": [],
      "source": []
    },
    {
      "cell_type": "code",
      "execution_count": null,
      "metadata": {
        "id": "18k3emtNZWsB"
      },
      "outputs": [],
      "source": []
    },
    {
      "cell_type": "code",
      "execution_count": null,
      "metadata": {
        "id": "dSXgj1gzZWsB"
      },
      "outputs": [],
      "source": []
    },
    {
      "cell_type": "code",
      "execution_count": null,
      "metadata": {
        "id": "MzDSVtDWZWsC"
      },
      "outputs": [],
      "source": []
    },
    {
      "cell_type": "code",
      "execution_count": null,
      "metadata": {
        "id": "VTYjpuzvZWsC"
      },
      "outputs": [],
      "source": []
    },
    {
      "cell_type": "code",
      "execution_count": null,
      "metadata": {
        "id": "YZbZ859bZWsC"
      },
      "outputs": [],
      "source": []
    },
    {
      "cell_type": "code",
      "execution_count": null,
      "metadata": {
        "id": "zYPVdiQEZWsC"
      },
      "outputs": [],
      "source": []
    },
    {
      "cell_type": "code",
      "execution_count": null,
      "metadata": {
        "id": "m8oXkyygZWsI"
      },
      "outputs": [],
      "source": []
    }
  ],
  "metadata": {
    "kernelspec": {
      "display_name": "Python 3",
      "language": "python",
      "name": "python3"
    },
    "language_info": {
      "codemirror_mode": {
        "name": "ipython",
        "version": 3
      },
      "file_extension": ".py",
      "mimetype": "text/x-python",
      "name": "python",
      "nbconvert_exporter": "python",
      "pygments_lexer": "ipython3",
      "version": "3.8.5"
    },
    "colab": {
      "provenance": []
    }
  },
  "nbformat": 4,
  "nbformat_minor": 0
}